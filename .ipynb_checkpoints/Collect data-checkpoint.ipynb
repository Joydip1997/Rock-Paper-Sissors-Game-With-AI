{
 "cells": [
  {
   "cell_type": "code",
   "execution_count": 1,
   "metadata": {},
   "outputs": [
    {
     "name": "stderr",
     "output_type": "stream",
     "text": [
      "Using TensorFlow backend.\n"
     ]
    }
   ],
   "source": [
    "#import library\n",
    "import numpy as np\n",
    "from keras.models import model_from_json\n",
    "import operator\n",
    "import cv2\n",
    "import sys, os\n",
    "import keras\n",
    "from keras.preprocessing import image\n",
    "from PIL import Image"
   ]
  },
  {
   "cell_type": "code",
   "execution_count": 2,
   "metadata": {},
   "outputs": [],
   "source": [
    "#Creating a directory named data for storing train and test set if not created then three folder named as\n",
    "# rock,paper,sissors are created in both train and test set to store respective images if no created\n",
    "\n",
    "if not os.path.exists(\"data\"):\n",
    "    os.makedirs(\"data\")\n",
    "    os.makedirs(\"data/train\")\n",
    "    os.makedirs(\"data/test\")\n",
    "    os.makedirs(\"data/train/rock\")\n",
    "    os.makedirs(\"data/train/paper\")\n",
    "    os.makedirs(\"data/train/sissors\")\n",
    "    os.makedirs(\"data/test/rock\")\n",
    "    os.makedirs(\"data/test/paper\")\n",
    "    os.makedirs(\"data/test/sissors\")\n"
   ]
  },
  {
   "cell_type": "code",
   "execution_count": 7,
   "metadata": {},
   "outputs": [],
   "source": [
    "#Taking images using webcam\n",
    "\n",
    "import cv2\n",
    "import numpy as np\n",
    "cap = cv2.VideoCapture(0)\n",
    "\n",
    "cap.open(\"http://192.168.0.102:8080/video\") # Note: I dont have a webcam so used IP-Webcam app if you have a web cam then exclude this line\n",
    "\n",
    "# To Store images in train set set the mode as train else set as test\n",
    "mode='train' \n",
    "  \n",
    "# Taking Input    \n",
    "while True:\n",
    "    _, frame = cap.read()\n",
    "    \n",
    "    # Reshaping The Frame To Get More Aqurate Predictions\n",
    "    frame = cv2.flip(frame, 1)\n",
    "    x1 = int(0.5*frame.shape[1])\n",
    "    y1 = 10\n",
    "    x2 = frame.shape[1]-10\n",
    "    y2 = int(0.5*frame.shape[1])\n",
    "        \n",
    "    count = {'rock': len(os.listdir('data/'+mode+'/rock/')),\n",
    "                 'paper': len(os.listdir('data/'+mode+'/paper/')),\n",
    "                 'sissors': len(os.listdir('data/'+mode+'/sissors/')),     \n",
    "             }\n",
    "    \n",
    "    cv2.rectangle(frame, (x1-1, y1-1), (x2+1, y2+1), (255,0,0) ,1)\n",
    "  \n",
    "    roi = frame[y1:y2, x1:x2]\n",
    "    roi = cv2.resize(roi, (150, 150))  # roi or Region of Interest where we want to take images from the frame\n",
    "        \n",
    " \n",
    "     \n",
    "    # Show The ROI(Video Frames) on the scree\n",
    "    cv2.imshow(\"IMAGE\",roi)\n",
    "  \n",
    "    # Keyboard Interupt To Take input\n",
    "    interrupt = cv2.waitKey(10)\n",
    "    if interrupt & 0xFF == 27: # esc key to close the program\n",
    "            break\n",
    "    if interrupt & 0xFF == ord('0'):\n",
    "            cv2.imwrite('data/'+mode+'/rock/'+str(count['rock'])+'.jpg', roi)  # 0 for storing Rock Images\n",
    "    if interrupt & 0xFF == ord('1'):\n",
    "            cv2.imwrite('data/'+mode+'/paper/'+str(count['paper'])+'.jpg', roi)  # 1 for storing Paper Images\n",
    "    if interrupt & 0xFF == ord('2'):\n",
    "            cv2.imwrite('data/'+mode+'/sissors/'+str(count['sissors'])+'.jpg', roi)  # 2 for storing Sissors Images\n",
    "        \n",
    "cv2.waitKey(0)\n",
    "cv2.destroyAllWindows()   \n",
    "# Close The Program"
   ]
  },
  {
   "cell_type": "code",
   "execution_count": null,
   "metadata": {},
   "outputs": [],
   "source": []
  }
 ],
 "metadata": {
  "kernelspec": {
   "display_name": "Python 3",
   "language": "python",
   "name": "python3"
  },
  "language_info": {
   "codemirror_mode": {
    "name": "ipython",
    "version": 3
   },
   "file_extension": ".py",
   "mimetype": "text/x-python",
   "name": "python",
   "nbconvert_exporter": "python",
   "pygments_lexer": "ipython3",
   "version": "3.7.7"
  }
 },
 "nbformat": 4,
 "nbformat_minor": 4
}
