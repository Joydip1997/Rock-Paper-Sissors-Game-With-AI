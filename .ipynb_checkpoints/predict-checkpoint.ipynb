{
 "cells": [
  {
   "cell_type": "code",
   "execution_count": 1,
   "metadata": {},
   "outputs": [
    {
     "name": "stderr",
     "output_type": "stream",
     "text": [
      "Using TensorFlow backend.\n"
     ]
    }
   ],
   "source": [
    "#Importing Library\n",
    "import numpy as np\n",
    "from keras.models import model_from_json\n",
    "import operator\n",
    "import cv2\n",
    "import sys, os\n",
    "from keras.preprocessing import image"
   ]
  },
  {
   "cell_type": "code",
   "execution_count": 2,
   "metadata": {},
   "outputs": [
    {
     "name": "stdout",
     "output_type": "stream",
     "text": [
      "Loaded model from disk\n"
     ]
    }
   ],
   "source": [
    "# Loading the model\n",
    "json_file = open(\"second_try_json.json\", \"r\")\n",
    "model_json = json_file.read()\n",
    "json_file.close()\n",
    "loaded_model = model_from_json(model_json)\n",
    "# load weights into new model\n",
    "loaded_model.load_weights(\"second_try.h5\")\n",
    "print(\"Loaded model from disk\")"
   ]
  },
  {
   "cell_type": "code",
   "execution_count": 20,
   "metadata": {},
   "outputs": [
    {
     "name": "stdout",
     "output_type": "stream",
     "text": [
      "Sissors\n"
     ]
    }
   ],
   "source": [
    "#Testing Ai With Test Set\n",
    "test_image = image.load_img('data/test/sissors/1.jpg',target_size=(150,150))\n",
    "img_pred=image.img_to_array(test_image)\n",
    "img = np.expand_dims(img_pred,axis=0)\n",
    "rslt = loaded_model.predict(img)\n",
    "\n",
    "if rslt[0][1] == 1:\n",
    "    print(\"ROCK\")\n",
    "elif rslt[0][0] == 1:\n",
    "    print(\"Paper\")\n",
    "else:\n",
    "    print(\"Sissors\")\n",
    "    "
   ]
  },
  {
   "cell_type": "code",
   "execution_count": 24,
   "metadata": {},
   "outputs": [
    {
     "name": "stdout",
     "output_type": "stream",
     "text": [
      "AI WINS\n"
     ]
    }
   ],
   "source": [
    "cap = cv2.VideoCapture(0)\n",
    "cap.open('http://192.168.0.102:8080/video')\n",
    "while True:\n",
    "        _, frame = cap.read()\n",
    "        frame = cv2.flip(frame, 1)\n",
    "        x1 = int(0.5*frame.shape[1])\n",
    "        y1 = 10\n",
    "        x2 = frame.shape[1]-10\n",
    "        y2 = int(0.5*frame.shape[1])\n",
    "        \n",
    "        \n",
    "  \n",
    "        #Get The Right Region\n",
    "        roi = frame[y1:y2, x1:x2]\n",
    "        roi = cv2.resize(roi, (150, 150))\n",
    "        \n",
    "        #Predicts user Movement\n",
    "        test_image = cv2.resize(roi, (150,150))\n",
    "        test_image = test_image[...,::-1] # Ad\n",
    "        test_image = np.expand_dims(test_image,axis=0)\n",
    "        rslt = loaded_model.predict(test_image)\n",
    "        if rslt[0][1] == 1:\n",
    "            my_move=\"ROCK\"\n",
    "            ai_move=\"PAPER\"\n",
    "        elif rslt[0][0] == 1:\n",
    "            my_move=\"PAPER\"\n",
    "            ai_move=\"SISSORS\"\n",
    "        else:\n",
    "            my_move=\"SISSORS\"\n",
    "            ai_move=\"ROCK\"\n",
    "        \n",
    "        \n",
    "\n",
    "        #Testing Who Wins\n",
    "        if my_move==\"ROCK\" and ai_move==\"PAPER\":\n",
    "            win=\"AI WINS\"\n",
    "        else:\n",
    "            win=\"YOU WIN\"\n",
    "        \n",
    "        if my_move==\"PAPER\" and ai_move==\"SISSORS\":\n",
    "            win=\"AI WINS\"\n",
    "        else:\n",
    "            win=\"YOU WIN\"\n",
    "            \n",
    "        if my_move==\"SISSORS\" and ai_move==\"ROCK\":\n",
    "            win=\"AI WINS\"\n",
    "        else:\n",
    "            win=\"YOU WIN\"   \n",
    "            \n",
    "        \n",
    "        img  = cv2.putText(frame, \"Your Move \" + my_move, (50, 200) , cv2.FONT_HERSHEY_SIMPLEX ,  \n",
    "                  5, (0, 0, 255), 2, cv2.LINE_AA) \n",
    "        img  = cv2.putText(frame, \"AI Move \" + ai_move, (50, 400) , cv2.FONT_HERSHEY_SIMPLEX ,  \n",
    "                  5, (0, 0, 255), 2, cv2.LINE_AA) \n",
    "        img  = cv2.putText(frame, \"Who Wins \" + win, (50, 600) , cv2.FONT_HERSHEY_SIMPLEX ,  \n",
    "                  5, (0, 0, 255), 2, cv2.LINE_AA) \n",
    "        img = cv2.rectangle(frame, (x1-1, y1-1), (x2+1, y2+1), (255,0,0) ,1)\n",
    "            \n",
    "        \n",
    "        cv2.imshow(\"IMAGE\",img)\n",
    "        \n",
    "      \n",
    "            \n",
    "        \n",
    "        interrupt = cv2.waitKey(10)\n",
    "        if interrupt & 0xFF == 27: # esc key\n",
    "            break\n",
    "            \n",
    "print(win)            \n",
    "cv2.waitKey(0)\n",
    "cv2.destroyAllWindows()       "
   ]
  },
  {
   "cell_type": "code",
   "execution_count": null,
   "metadata": {},
   "outputs": [],
   "source": []
  }
 ],
 "metadata": {
  "kernelspec": {
   "display_name": "Python 3",
   "language": "python",
   "name": "python3"
  },
  "language_info": {
   "codemirror_mode": {
    "name": "ipython",
    "version": 3
   },
   "file_extension": ".py",
   "mimetype": "text/x-python",
   "name": "python",
   "nbconvert_exporter": "python",
   "pygments_lexer": "ipython3",
   "version": "3.7.7"
  }
 },
 "nbformat": 4,
 "nbformat_minor": 4
}
